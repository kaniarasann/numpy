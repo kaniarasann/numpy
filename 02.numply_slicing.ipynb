{
  "cells": [
    {
      "cell_type": "markdown",
      "source": [
        "slicing"
      ],
      "metadata": {
        "id": "vW36LSS-03f4"
      },
      "id": "vW36LSS-03f4"
    },
    {
      "cell_type": "code",
      "execution_count": 11,
      "id": "6912ff4e",
      "metadata": {
        "vscode": {
          "languageId": "plaintext"
        },
        "id": "6912ff4e"
      },
      "outputs": [],
      "source": [
        "import numpy as np"
      ]
    },
    {
      "cell_type": "code",
      "execution_count": 12,
      "id": "73e636ee",
      "metadata": {
        "vscode": {
          "languageId": "plaintext"
        },
        "id": "73e636ee"
      },
      "outputs": [],
      "source": [
        "array_a = np.array([1,2,3,4,5,6,7,8,9,10])\n",
        "array_b = np.array([[1,2,3,4,5],[6,7,8,9,10]])"
      ]
    },
    {
      "cell_type": "markdown",
      "source": [
        "Basic Slicing"
      ],
      "metadata": {
        "id": "DBlehrSF1NSd"
      },
      "id": "DBlehrSF1NSd"
    },
    {
      "cell_type": "code",
      "execution_count": 13,
      "id": "6b8c6ea1",
      "metadata": {
        "vscode": {
          "languageId": "plaintext"
        },
        "id": "6b8c6ea1",
        "outputId": "87271da8-d82d-47bd-c5e3-3e003d7162aa",
        "colab": {
          "base_uri": "https://localhost:8080/"
        }
      },
      "outputs": [
        {
          "output_type": "execute_result",
          "data": {
            "text/plain": [
              "array([[ 1,  2,  3,  4,  5],\n",
              "       [ 6,  7,  8,  9, 10]])"
            ]
          },
          "metadata": {},
          "execution_count": 13
        }
      ],
      "source": [
        "array_b[:]"
      ]
    },
    {
      "cell_type": "code",
      "execution_count": 14,
      "id": "a482d4ef",
      "metadata": {
        "vscode": {
          "languageId": "plaintext"
        },
        "id": "a482d4ef",
        "outputId": "11a8640d-78a4-43a8-9651-e763e8313657",
        "colab": {
          "base_uri": "https://localhost:8080/"
        }
      },
      "outputs": [
        {
          "output_type": "execute_result",
          "data": {
            "text/plain": [
              "array([], shape=(0, 5), dtype=int64)"
            ]
          },
          "metadata": {},
          "execution_count": 14
        }
      ],
      "source": [
        "array_b[0:0]"
      ]
    },
    {
      "cell_type": "code",
      "execution_count": 15,
      "id": "50710905",
      "metadata": {
        "vscode": {
          "languageId": "plaintext"
        },
        "id": "50710905",
        "outputId": "a611efe2-895a-4b17-b78e-28dc5fc463ef",
        "colab": {
          "base_uri": "https://localhost:8080/"
        }
      },
      "outputs": [
        {
          "output_type": "execute_result",
          "data": {
            "text/plain": [
              "array([[1, 2, 3, 4, 5]])"
            ]
          },
          "metadata": {},
          "execution_count": 15
        }
      ],
      "source": [
        "array_b[0:1]"
      ]
    },
    {
      "cell_type": "code",
      "execution_count": 16,
      "id": "729226ce",
      "metadata": {
        "vscode": {
          "languageId": "plaintext"
        },
        "id": "729226ce",
        "outputId": "1ff144ce-9de0-478a-b6cb-7354801a4778",
        "colab": {
          "base_uri": "https://localhost:8080/"
        }
      },
      "outputs": [
        {
          "output_type": "execute_result",
          "data": {
            "text/plain": [
              "array([[ 1,  2,  3,  4,  5],\n",
              "       [ 6,  7,  8,  9, 10]])"
            ]
          },
          "metadata": {},
          "execution_count": 16
        }
      ],
      "source": [
        "array_b[0:2]"
      ]
    },
    {
      "cell_type": "code",
      "source": [
        "#exludes the first row\n",
        "array_b[:1]"
      ],
      "metadata": {
        "id": "WQ5aak871nER",
        "outputId": "81062fa5-a77f-4e94-a51d-6b1a181dcc4a",
        "colab": {
          "base_uri": "https://localhost:8080/"
        }
      },
      "id": "WQ5aak871nER",
      "execution_count": 17,
      "outputs": [
        {
          "output_type": "execute_result",
          "data": {
            "text/plain": [
              "array([[1, 2, 3, 4, 5]])"
            ]
          },
          "metadata": {},
          "execution_count": 17
        }
      ]
    },
    {
      "cell_type": "code",
      "source": [
        "#exludes the first row\n",
        "array_b[1:]"
      ],
      "metadata": {
        "id": "bLePJiO219Wn",
        "outputId": "85815b20-135e-458c-ca73-4ad521f6f955",
        "colab": {
          "base_uri": "https://localhost:8080/"
        }
      },
      "id": "bLePJiO219Wn",
      "execution_count": 18,
      "outputs": [
        {
          "output_type": "execute_result",
          "data": {
            "text/plain": [
              "array([[ 6,  7,  8,  9, 10]])"
            ]
          },
          "metadata": {},
          "execution_count": 18
        }
      ]
    },
    {
      "cell_type": "code",
      "source": [
        "array_b[:2]"
      ],
      "metadata": {
        "id": "oY57Q-Bp2jVz",
        "outputId": "4435f301-5b91-4dc0-b355-69f710be86c4",
        "colab": {
          "base_uri": "https://localhost:8080/"
        }
      },
      "id": "oY57Q-Bp2jVz",
      "execution_count": 19,
      "outputs": [
        {
          "output_type": "execute_result",
          "data": {
            "text/plain": [
              "array([[ 1,  2,  3,  4,  5],\n",
              "       [ 6,  7,  8,  9, 10]])"
            ]
          },
          "metadata": {},
          "execution_count": 19
        }
      ]
    },
    {
      "cell_type": "code",
      "source": [
        "array_b[:3]"
      ],
      "metadata": {
        "id": "Qi9H6PX727Pd",
        "outputId": "84677b72-f50f-4f87-d6e2-3afa33489fdf",
        "colab": {
          "base_uri": "https://localhost:8080/"
        }
      },
      "id": "Qi9H6PX727Pd",
      "execution_count": 20,
      "outputs": [
        {
          "output_type": "execute_result",
          "data": {
            "text/plain": [
              "array([[ 1,  2,  3,  4,  5],\n",
              "       [ 6,  7,  8,  9, 10]])"
            ]
          },
          "metadata": {},
          "execution_count": 20
        }
      ]
    },
    {
      "cell_type": "code",
      "source": [
        "#nagative index\n",
        "array_b[-1:]"
      ],
      "metadata": {
        "id": "MGLSV4-M3DQs",
        "outputId": "8f8aa8c4-1d20-4832-912d-736e0970e51a",
        "colab": {
          "base_uri": "https://localhost:8080/"
        }
      },
      "id": "MGLSV4-M3DQs",
      "execution_count": 21,
      "outputs": [
        {
          "output_type": "execute_result",
          "data": {
            "text/plain": [
              "array([[ 6,  7,  8,  9, 10]])"
            ]
          },
          "metadata": {},
          "execution_count": 21
        }
      ]
    },
    {
      "cell_type": "code",
      "source": [
        "array_b[:-1]"
      ],
      "metadata": {
        "id": "13Bgw9ao3woH",
        "outputId": "6d0c8901-75dc-456e-b194-5d21c2943d4d",
        "colab": {
          "base_uri": "https://localhost:8080/"
        }
      },
      "id": "13Bgw9ao3woH",
      "execution_count": 22,
      "outputs": [
        {
          "output_type": "execute_result",
          "data": {
            "text/plain": [
              "array([[1, 2, 3, 4, 5]])"
            ]
          },
          "metadata": {},
          "execution_count": 22
        }
      ]
    },
    {
      "cell_type": "code",
      "source": [
        "#column slicing\n",
        "array_b[:,1]"
      ],
      "metadata": {
        "id": "_iIR6-WL31pt",
        "outputId": "356838c0-0659-4e7f-bb64-a25fee0ed2ee",
        "colab": {
          "base_uri": "https://localhost:8080/"
        }
      },
      "id": "_iIR6-WL31pt",
      "execution_count": 23,
      "outputs": [
        {
          "output_type": "execute_result",
          "data": {
            "text/plain": [
              "array([2, 7])"
            ]
          },
          "metadata": {},
          "execution_count": 23
        }
      ]
    },
    {
      "cell_type": "code",
      "source": [
        "array_b[1:,1:]"
      ],
      "metadata": {
        "id": "QPVD5KJH4Ehk",
        "outputId": "3aae55fe-b91d-4aab-92c7-7d6549401747",
        "colab": {
          "base_uri": "https://localhost:8080/"
        }
      },
      "id": "QPVD5KJH4Ehk",
      "execution_count": 25,
      "outputs": [
        {
          "output_type": "execute_result",
          "data": {
            "text/plain": [
              "array([[ 7,  8,  9, 10]])"
            ]
          },
          "metadata": {},
          "execution_count": 25
        }
      ]
    },
    {
      "cell_type": "code",
      "source": [
        "array_b[0:-1,:-1]"
      ],
      "metadata": {
        "id": "fByYZLLQ4SBK",
        "outputId": "27697f65-ad56-46c1-a142-b2bc0f30c7ea",
        "colab": {
          "base_uri": "https://localhost:8080/"
        }
      },
      "id": "fByYZLLQ4SBK",
      "execution_count": 30,
      "outputs": [
        {
          "output_type": "execute_result",
          "data": {
            "text/plain": [
              "array([[1, 2, 3, 4]])"
            ]
          },
          "metadata": {},
          "execution_count": 30
        }
      ]
    },
    {
      "cell_type": "code",
      "source": [],
      "metadata": {
        "id": "TB1cEBt44dnw"
      },
      "id": "TB1cEBt44dnw",
      "execution_count": null,
      "outputs": []
    }
  ],
  "metadata": {
    "language_info": {
      "name": "python"
    },
    "colab": {
      "provenance": []
    },
    "kernelspec": {
      "name": "python3",
      "display_name": "Python 3"
    }
  },
  "nbformat": 4,
  "nbformat_minor": 5
}