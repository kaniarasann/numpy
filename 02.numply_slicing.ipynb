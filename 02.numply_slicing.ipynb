{
  "cells": [
    {
      "cell_type": "markdown",
      "source": [
        "slicing"
      ],
      "metadata": {
        "id": "vW36LSS-03f4"
      },
      "id": "vW36LSS-03f4"
    },
    {
      "cell_type": "code",
      "execution_count": 2,
      "id": "6912ff4e",
      "metadata": {
        "vscode": {
          "languageId": "plaintext"
        },
        "id": "6912ff4e"
      },
      "outputs": [],
      "source": [
        "import numpy as np"
      ]
    },
    {
      "cell_type": "code",
      "execution_count": 3,
      "id": "73e636ee",
      "metadata": {
        "vscode": {
          "languageId": "plaintext"
        },
        "id": "73e636ee"
      },
      "outputs": [],
      "source": [
        "array_a = np.array([1,2,3,4,5,6,7,8,9,10])\n",
        "array_b = np.array([[1,2,3,4,5],[6,7,8,9,10]])"
      ]
    },
    {
      "cell_type": "markdown",
      "source": [
        "Basic Slicing"
      ],
      "metadata": {
        "id": "DBlehrSF1NSd"
      },
      "id": "DBlehrSF1NSd"
    },
    {
      "cell_type": "code",
      "execution_count": 4,
      "id": "6b8c6ea1",
      "metadata": {
        "vscode": {
          "languageId": "plaintext"
        },
        "id": "6b8c6ea1",
        "outputId": "78507459-951a-49ae-ef61-838fed719de2",
        "colab": {
          "base_uri": "https://localhost:8080/"
        }
      },
      "outputs": [
        {
          "output_type": "execute_result",
          "data": {
            "text/plain": [
              "array([[ 1,  2,  3,  4,  5],\n",
              "       [ 6,  7,  8,  9, 10]])"
            ]
          },
          "metadata": {},
          "execution_count": 4
        }
      ],
      "source": [
        "array_b[:]"
      ]
    },
    {
      "cell_type": "code",
      "execution_count": 5,
      "id": "a482d4ef",
      "metadata": {
        "vscode": {
          "languageId": "plaintext"
        },
        "id": "a482d4ef",
        "outputId": "4c32ca93-b97b-44af-ad2b-8ebb0fb22553",
        "colab": {
          "base_uri": "https://localhost:8080/"
        }
      },
      "outputs": [
        {
          "output_type": "execute_result",
          "data": {
            "text/plain": [
              "array([], shape=(0, 5), dtype=int64)"
            ]
          },
          "metadata": {},
          "execution_count": 5
        }
      ],
      "source": [
        "array_b[0:0]"
      ]
    },
    {
      "cell_type": "code",
      "execution_count": 6,
      "id": "50710905",
      "metadata": {
        "vscode": {
          "languageId": "plaintext"
        },
        "id": "50710905",
        "outputId": "549fec25-ada6-4cee-ed64-8bb917682fc2",
        "colab": {
          "base_uri": "https://localhost:8080/"
        }
      },
      "outputs": [
        {
          "output_type": "execute_result",
          "data": {
            "text/plain": [
              "array([[1, 2, 3, 4, 5]])"
            ]
          },
          "metadata": {},
          "execution_count": 6
        }
      ],
      "source": [
        "array_b[0:1]"
      ]
    },
    {
      "cell_type": "code",
      "execution_count": 7,
      "id": "729226ce",
      "metadata": {
        "vscode": {
          "languageId": "plaintext"
        },
        "id": "729226ce",
        "outputId": "c31823de-2660-4706-a78b-e8a72a2732c8",
        "colab": {
          "base_uri": "https://localhost:8080/"
        }
      },
      "outputs": [
        {
          "output_type": "execute_result",
          "data": {
            "text/plain": [
              "array([[ 1,  2,  3,  4,  5],\n",
              "       [ 6,  7,  8,  9, 10]])"
            ]
          },
          "metadata": {},
          "execution_count": 7
        }
      ],
      "source": [
        "array_b[0:2]"
      ]
    },
    {
      "cell_type": "code",
      "source": [
        "#exludes the first row\n",
        "array_b[:1]"
      ],
      "metadata": {
        "id": "WQ5aak871nER",
        "outputId": "55b6cad6-9bdf-4770-c55a-8215699bc78a",
        "colab": {
          "base_uri": "https://localhost:8080/"
        }
      },
      "id": "WQ5aak871nER",
      "execution_count": 8,
      "outputs": [
        {
          "output_type": "execute_result",
          "data": {
            "text/plain": [
              "array([[1, 2, 3, 4, 5]])"
            ]
          },
          "metadata": {},
          "execution_count": 8
        }
      ]
    },
    {
      "cell_type": "code",
      "source": [
        "#exludes the first row\n",
        "array_b[1:]"
      ],
      "metadata": {
        "id": "bLePJiO219Wn",
        "outputId": "1120dd0a-59de-4bc9-e47b-c53aaf5f83f2",
        "colab": {
          "base_uri": "https://localhost:8080/"
        }
      },
      "id": "bLePJiO219Wn",
      "execution_count": 9,
      "outputs": [
        {
          "output_type": "execute_result",
          "data": {
            "text/plain": [
              "array([[ 6,  7,  8,  9, 10]])"
            ]
          },
          "metadata": {},
          "execution_count": 9
        }
      ]
    },
    {
      "cell_type": "code",
      "source": [
        "array_b[:2]"
      ],
      "metadata": {
        "id": "oY57Q-Bp2jVz",
        "outputId": "35ef70b2-451a-4f9d-d8cd-b9978a7a039f",
        "colab": {
          "base_uri": "https://localhost:8080/"
        }
      },
      "id": "oY57Q-Bp2jVz",
      "execution_count": 10,
      "outputs": [
        {
          "output_type": "execute_result",
          "data": {
            "text/plain": [
              "array([[ 1,  2,  3,  4,  5],\n",
              "       [ 6,  7,  8,  9, 10]])"
            ]
          },
          "metadata": {},
          "execution_count": 10
        }
      ]
    },
    {
      "cell_type": "code",
      "source": [
        "array_b[:3]"
      ],
      "metadata": {
        "id": "Qi9H6PX727Pd",
        "outputId": "5856394d-76e2-4e1c-8e17-74deb6f5c2ed",
        "colab": {
          "base_uri": "https://localhost:8080/"
        }
      },
      "id": "Qi9H6PX727Pd",
      "execution_count": 11,
      "outputs": [
        {
          "output_type": "execute_result",
          "data": {
            "text/plain": [
              "array([[ 1,  2,  3,  4,  5],\n",
              "       [ 6,  7,  8,  9, 10]])"
            ]
          },
          "metadata": {},
          "execution_count": 11
        }
      ]
    },
    {
      "cell_type": "code",
      "source": [
        "#nagative index\n",
        "array_b[-1:]"
      ],
      "metadata": {
        "id": "MGLSV4-M3DQs",
        "outputId": "c49dac95-1353-46bf-e871-61c8c50458ce",
        "colab": {
          "base_uri": "https://localhost:8080/"
        }
      },
      "id": "MGLSV4-M3DQs",
      "execution_count": 12,
      "outputs": [
        {
          "output_type": "execute_result",
          "data": {
            "text/plain": [
              "array([[ 6,  7,  8,  9, 10]])"
            ]
          },
          "metadata": {},
          "execution_count": 12
        }
      ]
    },
    {
      "cell_type": "code",
      "source": [
        "array_b[:-1]"
      ],
      "metadata": {
        "id": "13Bgw9ao3woH",
        "outputId": "7271582e-8b00-4c05-ad58-b9abf71235ed",
        "colab": {
          "base_uri": "https://localhost:8080/"
        }
      },
      "id": "13Bgw9ao3woH",
      "execution_count": 13,
      "outputs": [
        {
          "output_type": "execute_result",
          "data": {
            "text/plain": [
              "array([[1, 2, 3, 4, 5]])"
            ]
          },
          "metadata": {},
          "execution_count": 13
        }
      ]
    },
    {
      "cell_type": "code",
      "source": [
        "#column slicing\n",
        "array_b[:,1]"
      ],
      "metadata": {
        "id": "_iIR6-WL31pt",
        "outputId": "341a35f4-f4cb-4427-ea5e-52a666656b25",
        "colab": {
          "base_uri": "https://localhost:8080/"
        }
      },
      "id": "_iIR6-WL31pt",
      "execution_count": 14,
      "outputs": [
        {
          "output_type": "execute_result",
          "data": {
            "text/plain": [
              "array([2, 7])"
            ]
          },
          "metadata": {},
          "execution_count": 14
        }
      ]
    },
    {
      "cell_type": "code",
      "source": [
        "array_b[1:,1:]"
      ],
      "metadata": {
        "id": "QPVD5KJH4Ehk",
        "outputId": "df312c6c-510f-4c4b-e90d-821f72ce643a",
        "colab": {
          "base_uri": "https://localhost:8080/"
        }
      },
      "id": "QPVD5KJH4Ehk",
      "execution_count": 15,
      "outputs": [
        {
          "output_type": "execute_result",
          "data": {
            "text/plain": [
              "array([[ 7,  8,  9, 10]])"
            ]
          },
          "metadata": {},
          "execution_count": 15
        }
      ]
    },
    {
      "cell_type": "code",
      "source": [
        "array_b[0:-1,:-1]"
      ],
      "metadata": {
        "id": "fByYZLLQ4SBK",
        "outputId": "e984f485-d1e3-40c4-bef7-656275eedb40",
        "colab": {
          "base_uri": "https://localhost:8080/"
        }
      },
      "id": "fByYZLLQ4SBK",
      "execution_count": 16,
      "outputs": [
        {
          "output_type": "execute_result",
          "data": {
            "text/plain": [
              "array([[1, 2, 3, 4]])"
            ]
          },
          "metadata": {},
          "execution_count": 16
        }
      ]
    },
    {
      "cell_type": "markdown",
      "source": [
        "Stepwise Slicing - we take values at certian places apart\n",
        "\n",
        "1.   Step Argument cant be negative\n",
        "2.   [start:stop:step]\n",
        "\n"
      ],
      "metadata": {
        "id": "p5edXYCz0C62"
      },
      "id": "p5edXYCz0C62"
    },
    {
      "cell_type": "code",
      "source": [
        "matrix_3row = np.array([[1,2,3,4,5],[6,7,8,9,10],[11,12,13,14,15]])"
      ],
      "metadata": {
        "id": "TB1cEBt44dnw"
      },
      "id": "TB1cEBt44dnw",
      "execution_count": 17,
      "outputs": []
    },
    {
      "cell_type": "code",
      "source": [
        "matrix_3row[::,::]"
      ],
      "metadata": {
        "id": "bLN75Eqk0SkY",
        "outputId": "998b65fd-4781-447f-cc68-a1258f213287",
        "colab": {
          "base_uri": "https://localhost:8080/"
        }
      },
      "id": "bLN75Eqk0SkY",
      "execution_count": 18,
      "outputs": [
        {
          "output_type": "execute_result",
          "data": {
            "text/plain": [
              "array([[ 1,  2,  3,  4,  5],\n",
              "       [ 6,  7,  8,  9, 10],\n",
              "       [11, 12, 13, 14, 15]])"
            ]
          },
          "metadata": {},
          "execution_count": 18
        }
      ]
    },
    {
      "cell_type": "code",
      "source": [
        "matrix_3row[::2,::2]"
      ],
      "metadata": {
        "id": "SpqbTNnG0o7b",
        "outputId": "607e2851-02f1-4499-c900-145f7a142342",
        "colab": {
          "base_uri": "https://localhost:8080/"
        }
      },
      "id": "SpqbTNnG0o7b",
      "execution_count": 19,
      "outputs": [
        {
          "output_type": "execute_result",
          "data": {
            "text/plain": [
              "array([[ 1,  3,  5],\n",
              "       [11, 13, 15]])"
            ]
          },
          "metadata": {},
          "execution_count": 19
        }
      ]
    },
    {
      "cell_type": "code",
      "source": [
        "#If set step argumanet as negative it starts from the row bottom\n",
        "matrix_3row[::-2]"
      ],
      "metadata": {
        "id": "Dt46C2zc0tOn",
        "outputId": "9c2ea3b9-9bf6-44a0-c0df-9dc61f8b7866",
        "colab": {
          "base_uri": "https://localhost:8080/"
        }
      },
      "id": "Dt46C2zc0tOn",
      "execution_count": 21,
      "outputs": [
        {
          "output_type": "execute_result",
          "data": {
            "text/plain": [
              "array([[11, 12, 13, 14, 15],\n",
              "       [ 1,  2,  3,  4,  5]])"
            ]
          },
          "metadata": {},
          "execution_count": 21
        }
      ]
    },
    {
      "cell_type": "code",
      "source": [
        "#If set step argumanet as negative it starts from the row bottom\n",
        "matrix_3row[::-2,::-2]"
      ],
      "metadata": {
        "id": "U-f6Alpz1W5k",
        "outputId": "2ba32d01-c2d0-470f-e4cb-e533cde139a9",
        "colab": {
          "base_uri": "https://localhost:8080/"
        }
      },
      "id": "U-f6Alpz1W5k",
      "execution_count": 22,
      "outputs": [
        {
          "output_type": "execute_result",
          "data": {
            "text/plain": [
              "array([[15, 13, 11],\n",
              "       [ 5,  3,  1]])"
            ]
          },
          "metadata": {},
          "execution_count": 22
        }
      ]
    },
    {
      "cell_type": "code",
      "source": [
        "matrix_3row[2::-1]"
      ],
      "metadata": {
        "id": "zU0bQS0-1kij",
        "outputId": "7853baa3-b4d1-4cda-c44b-82116bdf6c96",
        "colab": {
          "base_uri": "https://localhost:8080/"
        }
      },
      "id": "zU0bQS0-1kij",
      "execution_count": 30,
      "outputs": [
        {
          "output_type": "execute_result",
          "data": {
            "text/plain": [
              "array([[11, 12, 13, 14, 15],\n",
              "       [ 6,  7,  8,  9, 10],\n",
              "       [ 1,  2,  3,  4,  5]])"
            ]
          },
          "metadata": {},
          "execution_count": 30
        }
      ]
    },
    {
      "cell_type": "code",
      "source": [],
      "metadata": {
        "id": "XucawFqh1r1s"
      },
      "id": "XucawFqh1r1s",
      "execution_count": null,
      "outputs": []
    }
  ],
  "metadata": {
    "language_info": {
      "name": "python"
    },
    "colab": {
      "provenance": []
    },
    "kernelspec": {
      "name": "python3",
      "display_name": "Python 3"
    }
  },
  "nbformat": 4,
  "nbformat_minor": 5
}