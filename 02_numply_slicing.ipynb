{
  "cells": [
    {
      "cell_type": "markdown",
      "metadata": {
        "id": "view-in-github",
        "colab_type": "text"
      },
      "source": [
        "<a href=\"https://colab.research.google.com/github/kaniarasann/numpy/blob/main/02_numply_slicing.ipynb\" target=\"_parent\"><img src=\"https://colab.research.google.com/assets/colab-badge.svg\" alt=\"Open In Colab\"/></a>"
      ]
    },
    {
      "cell_type": "markdown",
      "source": [
        "slicing"
      ],
      "metadata": {
        "id": "vW36LSS-03f4"
      },
      "id": "vW36LSS-03f4"
    },
    {
      "cell_type": "code",
      "execution_count": 2,
      "id": "6912ff4e",
      "metadata": {
        "vscode": {
          "languageId": "plaintext"
        },
        "id": "6912ff4e"
      },
      "outputs": [],
      "source": [
        "import numpy as np"
      ]
    },
    {
      "cell_type": "code",
      "execution_count": 3,
      "id": "73e636ee",
      "metadata": {
        "vscode": {
          "languageId": "plaintext"
        },
        "id": "73e636ee"
      },
      "outputs": [],
      "source": [
        "array_a = np.array([1,2,3,4,5,6,7,8,9,10])\n",
        "array_b = np.array([[1,2,3,4,5],[6,7,8,9,10]])"
      ]
    },
    {
      "cell_type": "markdown",
      "source": [
        "Basic Slicing"
      ],
      "metadata": {
        "id": "DBlehrSF1NSd"
      },
      "id": "DBlehrSF1NSd"
    },
    {
      "cell_type": "code",
      "execution_count": 4,
      "id": "6b8c6ea1",
      "metadata": {
        "vscode": {
          "languageId": "plaintext"
        },
        "id": "6b8c6ea1",
        "outputId": "f06a624b-f770-4772-9476-161c1b4658cc",
        "colab": {
          "base_uri": "https://localhost:8080/"
        }
      },
      "outputs": [
        {
          "output_type": "execute_result",
          "data": {
            "text/plain": [
              "array([[ 1,  2,  3,  4,  5],\n",
              "       [ 6,  7,  8,  9, 10]])"
            ]
          },
          "metadata": {},
          "execution_count": 4
        }
      ],
      "source": [
        "array_b[:]"
      ]
    },
    {
      "cell_type": "code",
      "execution_count": 5,
      "id": "a482d4ef",
      "metadata": {
        "vscode": {
          "languageId": "plaintext"
        },
        "id": "a482d4ef",
        "outputId": "907ef572-b271-4390-b499-a80922e7aff6",
        "colab": {
          "base_uri": "https://localhost:8080/"
        }
      },
      "outputs": [
        {
          "output_type": "execute_result",
          "data": {
            "text/plain": [
              "array([], shape=(0, 5), dtype=int64)"
            ]
          },
          "metadata": {},
          "execution_count": 5
        }
      ],
      "source": [
        "array_b[0:0]"
      ]
    },
    {
      "cell_type": "code",
      "execution_count": 6,
      "id": "50710905",
      "metadata": {
        "vscode": {
          "languageId": "plaintext"
        },
        "id": "50710905",
        "outputId": "2578707a-a114-4449-ee6e-e6f7653e9fca",
        "colab": {
          "base_uri": "https://localhost:8080/"
        }
      },
      "outputs": [
        {
          "output_type": "execute_result",
          "data": {
            "text/plain": [
              "array([[1, 2, 3, 4, 5]])"
            ]
          },
          "metadata": {},
          "execution_count": 6
        }
      ],
      "source": [
        "array_b[0:1]"
      ]
    },
    {
      "cell_type": "code",
      "execution_count": 7,
      "id": "729226ce",
      "metadata": {
        "vscode": {
          "languageId": "plaintext"
        },
        "id": "729226ce",
        "outputId": "287a34c5-ccc8-4823-a005-a9aeb31709b2",
        "colab": {
          "base_uri": "https://localhost:8080/"
        }
      },
      "outputs": [
        {
          "output_type": "execute_result",
          "data": {
            "text/plain": [
              "array([[ 1,  2,  3,  4,  5],\n",
              "       [ 6,  7,  8,  9, 10]])"
            ]
          },
          "metadata": {},
          "execution_count": 7
        }
      ],
      "source": [
        "array_b[0:2]"
      ]
    },
    {
      "cell_type": "code",
      "source": [
        "#exludes the first row\n",
        "array_b[:1]"
      ],
      "metadata": {
        "id": "WQ5aak871nER",
        "outputId": "1b19ed8d-9d50-4c6f-b856-6ef726a175c5",
        "colab": {
          "base_uri": "https://localhost:8080/"
        }
      },
      "id": "WQ5aak871nER",
      "execution_count": 8,
      "outputs": [
        {
          "output_type": "execute_result",
          "data": {
            "text/plain": [
              "array([[1, 2, 3, 4, 5]])"
            ]
          },
          "metadata": {},
          "execution_count": 8
        }
      ]
    },
    {
      "cell_type": "code",
      "source": [
        "#exludes the first row\n",
        "array_b[1:]"
      ],
      "metadata": {
        "id": "bLePJiO219Wn",
        "outputId": "d30e34ab-1b51-4448-9c2e-4ed7ece2ca81",
        "colab": {
          "base_uri": "https://localhost:8080/"
        }
      },
      "id": "bLePJiO219Wn",
      "execution_count": 9,
      "outputs": [
        {
          "output_type": "execute_result",
          "data": {
            "text/plain": [
              "array([[ 6,  7,  8,  9, 10]])"
            ]
          },
          "metadata": {},
          "execution_count": 9
        }
      ]
    },
    {
      "cell_type": "code",
      "source": [
        "array_b[:2]"
      ],
      "metadata": {
        "id": "oY57Q-Bp2jVz",
        "outputId": "2eb9e1e5-2ce3-4a63-ffb2-0d19987208a6",
        "colab": {
          "base_uri": "https://localhost:8080/"
        }
      },
      "id": "oY57Q-Bp2jVz",
      "execution_count": 10,
      "outputs": [
        {
          "output_type": "execute_result",
          "data": {
            "text/plain": [
              "array([[ 1,  2,  3,  4,  5],\n",
              "       [ 6,  7,  8,  9, 10]])"
            ]
          },
          "metadata": {},
          "execution_count": 10
        }
      ]
    },
    {
      "cell_type": "code",
      "source": [
        "array_b[:3]"
      ],
      "metadata": {
        "id": "Qi9H6PX727Pd",
        "outputId": "78719a1c-1803-4bdf-a8e2-c6a0ed6a6c03",
        "colab": {
          "base_uri": "https://localhost:8080/"
        }
      },
      "id": "Qi9H6PX727Pd",
      "execution_count": 11,
      "outputs": [
        {
          "output_type": "execute_result",
          "data": {
            "text/plain": [
              "array([[ 1,  2,  3,  4,  5],\n",
              "       [ 6,  7,  8,  9, 10]])"
            ]
          },
          "metadata": {},
          "execution_count": 11
        }
      ]
    },
    {
      "cell_type": "code",
      "source": [
        "#nagative index\n",
        "array_b[-1:]"
      ],
      "metadata": {
        "id": "MGLSV4-M3DQs",
        "outputId": "bcc5441a-0491-4cea-8b28-6b9720b286ad",
        "colab": {
          "base_uri": "https://localhost:8080/"
        }
      },
      "id": "MGLSV4-M3DQs",
      "execution_count": 12,
      "outputs": [
        {
          "output_type": "execute_result",
          "data": {
            "text/plain": [
              "array([[ 6,  7,  8,  9, 10]])"
            ]
          },
          "metadata": {},
          "execution_count": 12
        }
      ]
    },
    {
      "cell_type": "code",
      "source": [
        "array_b[:-1]"
      ],
      "metadata": {
        "id": "13Bgw9ao3woH",
        "outputId": "5e48fa25-754a-48a0-d122-75884eee3908",
        "colab": {
          "base_uri": "https://localhost:8080/"
        }
      },
      "id": "13Bgw9ao3woH",
      "execution_count": 13,
      "outputs": [
        {
          "output_type": "execute_result",
          "data": {
            "text/plain": [
              "array([[1, 2, 3, 4, 5]])"
            ]
          },
          "metadata": {},
          "execution_count": 13
        }
      ]
    },
    {
      "cell_type": "code",
      "source": [
        "#column slicing\n",
        "array_b[:,1]"
      ],
      "metadata": {
        "id": "_iIR6-WL31pt",
        "outputId": "5e284c1f-e091-4296-e667-db55ecfaeee1",
        "colab": {
          "base_uri": "https://localhost:8080/"
        }
      },
      "id": "_iIR6-WL31pt",
      "execution_count": 14,
      "outputs": [
        {
          "output_type": "execute_result",
          "data": {
            "text/plain": [
              "array([2, 7])"
            ]
          },
          "metadata": {},
          "execution_count": 14
        }
      ]
    },
    {
      "cell_type": "code",
      "source": [
        "array_b[1:,1:]"
      ],
      "metadata": {
        "id": "QPVD5KJH4Ehk",
        "outputId": "7a4944a0-dfea-4909-821e-3b1f6b5ed376",
        "colab": {
          "base_uri": "https://localhost:8080/"
        }
      },
      "id": "QPVD5KJH4Ehk",
      "execution_count": 15,
      "outputs": [
        {
          "output_type": "execute_result",
          "data": {
            "text/plain": [
              "array([[ 7,  8,  9, 10]])"
            ]
          },
          "metadata": {},
          "execution_count": 15
        }
      ]
    },
    {
      "cell_type": "code",
      "source": [
        "array_b[0:-1,:-1]"
      ],
      "metadata": {
        "id": "fByYZLLQ4SBK",
        "outputId": "7e5d2664-1266-4d47-b23f-42bda53634fe",
        "colab": {
          "base_uri": "https://localhost:8080/"
        }
      },
      "id": "fByYZLLQ4SBK",
      "execution_count": 16,
      "outputs": [
        {
          "output_type": "execute_result",
          "data": {
            "text/plain": [
              "array([[1, 2, 3, 4]])"
            ]
          },
          "metadata": {},
          "execution_count": 16
        }
      ]
    },
    {
      "cell_type": "markdown",
      "source": [
        "Stepwise Slicing - we take values at certian places apart\n",
        "\n",
        "1.   Step Argument cant be negative\n",
        "2.   [start:stop:step]\n",
        "\n"
      ],
      "metadata": {
        "id": "p5edXYCz0C62"
      },
      "id": "p5edXYCz0C62"
    },
    {
      "cell_type": "code",
      "source": [
        "matrix_3row = np.array([[1,2,3,4,5],[6,7,8,9,10],[11,12,13,14,15]])"
      ],
      "metadata": {
        "id": "TB1cEBt44dnw"
      },
      "id": "TB1cEBt44dnw",
      "execution_count": 17,
      "outputs": []
    },
    {
      "cell_type": "code",
      "source": [
        "matrix_3row[::,::]"
      ],
      "metadata": {
        "id": "bLN75Eqk0SkY",
        "outputId": "1149f352-8852-438e-fa19-25490d786ab8",
        "colab": {
          "base_uri": "https://localhost:8080/"
        }
      },
      "id": "bLN75Eqk0SkY",
      "execution_count": 18,
      "outputs": [
        {
          "output_type": "execute_result",
          "data": {
            "text/plain": [
              "array([[ 1,  2,  3,  4,  5],\n",
              "       [ 6,  7,  8,  9, 10],\n",
              "       [11, 12, 13, 14, 15]])"
            ]
          },
          "metadata": {},
          "execution_count": 18
        }
      ]
    },
    {
      "cell_type": "code",
      "source": [
        "matrix_3row[::2,::2]"
      ],
      "metadata": {
        "id": "SpqbTNnG0o7b",
        "outputId": "47fda7dc-ff40-4929-9884-96bd281cf5fc",
        "colab": {
          "base_uri": "https://localhost:8080/"
        }
      },
      "id": "SpqbTNnG0o7b",
      "execution_count": 19,
      "outputs": [
        {
          "output_type": "execute_result",
          "data": {
            "text/plain": [
              "array([[ 1,  3,  5],\n",
              "       [11, 13, 15]])"
            ]
          },
          "metadata": {},
          "execution_count": 19
        }
      ]
    },
    {
      "cell_type": "code",
      "source": [
        "#If set step argumanet as negative it starts from the row bottom\n",
        "matrix_3row[::-2]"
      ],
      "metadata": {
        "id": "Dt46C2zc0tOn",
        "outputId": "074a7f14-6f03-4edb-f0ad-8f015acc9660",
        "colab": {
          "base_uri": "https://localhost:8080/"
        }
      },
      "id": "Dt46C2zc0tOn",
      "execution_count": 20,
      "outputs": [
        {
          "output_type": "execute_result",
          "data": {
            "text/plain": [
              "array([[11, 12, 13, 14, 15],\n",
              "       [ 1,  2,  3,  4,  5]])"
            ]
          },
          "metadata": {},
          "execution_count": 20
        }
      ]
    },
    {
      "cell_type": "code",
      "source": [
        "#If set step argumanet as negative it starts from the row bottom\n",
        "matrix_3row[::-2,::-2]"
      ],
      "metadata": {
        "id": "U-f6Alpz1W5k",
        "outputId": "1c417b96-b4a6-423c-83b3-70ce205953d9",
        "colab": {
          "base_uri": "https://localhost:8080/"
        }
      },
      "id": "U-f6Alpz1W5k",
      "execution_count": 21,
      "outputs": [
        {
          "output_type": "execute_result",
          "data": {
            "text/plain": [
              "array([[15, 13, 11],\n",
              "       [ 5,  3,  1]])"
            ]
          },
          "metadata": {},
          "execution_count": 21
        }
      ]
    },
    {
      "cell_type": "code",
      "source": [
        "matrix_3row[2::-1]"
      ],
      "metadata": {
        "id": "zU0bQS0-1kij",
        "outputId": "a65ee7b8-e7a6-4770-da19-dddd2e47e98e",
        "colab": {
          "base_uri": "https://localhost:8080/"
        }
      },
      "id": "zU0bQS0-1kij",
      "execution_count": 22,
      "outputs": [
        {
          "output_type": "execute_result",
          "data": {
            "text/plain": [
              "array([[11, 12, 13, 14, 15],\n",
              "       [ 6,  7,  8,  9, 10],\n",
              "       [ 1,  2,  3,  4,  5]])"
            ]
          },
          "metadata": {},
          "execution_count": 22
        }
      ]
    },
    {
      "cell_type": "markdown",
      "source": [
        "Conditional Slicing\n",
        "\n",
        "it flattens out the whole array in single dimensional"
      ],
      "metadata": {
        "id": "uErxSVXm2avS"
      },
      "id": "uErxSVXm2avS"
    },
    {
      "cell_type": "code",
      "source": [
        "matrix_c = np.array([[1,2,3,4,5],[6,7,8,9,10],[11,12,13,14,15]])"
      ],
      "metadata": {
        "id": "i3Q9xOw42agv"
      },
      "id": "i3Q9xOw42agv",
      "execution_count": 23,
      "outputs": []
    },
    {
      "cell_type": "code",
      "source": [
        "matrix_c[matrix_c<5]"
      ],
      "metadata": {
        "colab": {
          "base_uri": "https://localhost:8080/"
        },
        "id": "X1Bq7hjD2aej",
        "outputId": "6d76d46c-c485-4871-aada-6d118bb44cee"
      },
      "id": "X1Bq7hjD2aej",
      "execution_count": 24,
      "outputs": [
        {
          "output_type": "execute_result",
          "data": {
            "text/plain": [
              "array([1, 2, 3, 4])"
            ]
          },
          "metadata": {},
          "execution_count": 24
        }
      ]
    },
    {
      "cell_type": "code",
      "source": [
        "#check in column\n",
        "matrix_c[:,0]>5"
      ],
      "metadata": {
        "colab": {
          "base_uri": "https://localhost:8080/"
        },
        "id": "bTtOM6j_2acl",
        "outputId": "7a308804-4c22-4798-8c92-6979821c3f5d"
      },
      "id": "bTtOM6j_2acl",
      "execution_count": 25,
      "outputs": [
        {
          "output_type": "execute_result",
          "data": {
            "text/plain": [
              "array([False,  True,  True])"
            ]
          },
          "metadata": {},
          "execution_count": 25
        }
      ]
    },
    {
      "cell_type": "code",
      "source": [
        "#using and condition\n",
        "matrix_c[(matrix_c%2 == 0) & (matrix_c>5)]"
      ],
      "metadata": {
        "colab": {
          "base_uri": "https://localhost:8080/"
        },
        "id": "pjj8E3DH2aaL",
        "outputId": "a7d7a308-4c4a-4bdc-f1e3-6f8a559944de"
      },
      "id": "pjj8E3DH2aaL",
      "execution_count": 26,
      "outputs": [
        {
          "output_type": "execute_result",
          "data": {
            "text/plain": [
              "array([ 6,  8, 10, 12, 14])"
            ]
          },
          "metadata": {},
          "execution_count": 26
        }
      ]
    },
    {
      "cell_type": "markdown",
      "source": [
        "Squeezing\n",
        "\n",
        "\n",
        "1.   Slicing and indexing reyurn the same value but their type differs\n",
        "2.   It can be achieved with the help of executing syntax [].squeeze or np.squeeze([])\n",
        "\n"
      ],
      "metadata": {
        "id": "n-y5IGIsVTJQ"
      },
      "id": "n-y5IGIsVTJQ"
    },
    {
      "cell_type": "code",
      "source": [
        "matrix_s = np.array([[1,2,3,4,5],[6,7,8,9,10],[11,12,13,14,15]])"
      ],
      "metadata": {
        "id": "XucawFqh1r1s"
      },
      "id": "XucawFqh1r1s",
      "execution_count": 27,
      "outputs": []
    },
    {
      "cell_type": "code",
      "source": [
        "res_one = matrix_s[0,0]\n",
        "res_one"
      ],
      "metadata": {
        "id": "Iy9Yxq2AVW0p",
        "outputId": "86368515-40cb-4d53-93ce-c9da80362762",
        "colab": {
          "base_uri": "https://localhost:8080/"
        }
      },
      "id": "Iy9Yxq2AVW0p",
      "execution_count": 29,
      "outputs": [
        {
          "output_type": "execute_result",
          "data": {
            "text/plain": [
              "np.int64(1)"
            ]
          },
          "metadata": {},
          "execution_count": 29
        }
      ]
    },
    {
      "cell_type": "code",
      "source": [
        "res_squeeze_one=matrix_s[0:1,0:1]\n",
        "print(res_squeeze_one.shape)"
      ],
      "metadata": {
        "id": "xYiiwMAgWBsf",
        "outputId": "45f246bc-53ba-4613-eb39-634cc3e1e5a4",
        "colab": {
          "base_uri": "https://localhost:8080/"
        }
      },
      "id": "xYiiwMAgWBsf",
      "execution_count": 39,
      "outputs": [
        {
          "output_type": "stream",
          "name": "stdout",
          "text": [
            "(1, 1)\n"
          ]
        }
      ]
    },
    {
      "cell_type": "code",
      "source": [
        "type(np.squeeze(res_squeeze_one))"
      ],
      "metadata": {
        "id": "iogupj1uWKFE",
        "outputId": "17fd0509-50aa-40cd-d898-7b3bbb5cbac9",
        "colab": {
          "base_uri": "https://localhost:8080/"
        }
      },
      "id": "iogupj1uWKFE",
      "execution_count": 41,
      "outputs": [
        {
          "output_type": "execute_result",
          "data": {
            "text/plain": [
              "numpy.ndarray"
            ]
          },
          "metadata": {},
          "execution_count": 41
        }
      ]
    },
    {
      "cell_type": "code",
      "source": [
        "np.squeeze(matrix_s)"
      ],
      "metadata": {
        "id": "8SNFVRL_XHUj",
        "outputId": "56ab9b2c-68f1-4e3e-c426-ac73b6932fd3",
        "colab": {
          "base_uri": "https://localhost:8080/"
        }
      },
      "id": "8SNFVRL_XHUj",
      "execution_count": 42,
      "outputs": [
        {
          "output_type": "execute_result",
          "data": {
            "text/plain": [
              "array([[ 1,  2,  3,  4,  5],\n",
              "       [ 6,  7,  8,  9, 10],\n",
              "       [11, 12, 13, 14, 15]])"
            ]
          },
          "metadata": {},
          "execution_count": 42
        }
      ]
    },
    {
      "cell_type": "code",
      "source": [
        "res_squeeze_two=matrix_s[0:1,0:2]"
      ],
      "metadata": {
        "id": "7CFIOUNYXn-I"
      },
      "id": "7CFIOUNYXn-I",
      "execution_count": 43,
      "outputs": []
    },
    {
      "cell_type": "code",
      "source": [
        "res_squeeze_two.squeeze()"
      ],
      "metadata": {
        "id": "A6ZU1iUBXvD6",
        "outputId": "a548e4b1-271c-4be2-96c9-9d3fc7710f0d",
        "colab": {
          "base_uri": "https://localhost:8080/"
        }
      },
      "id": "A6ZU1iUBXvD6",
      "execution_count": 45,
      "outputs": [
        {
          "output_type": "execute_result",
          "data": {
            "text/plain": [
              "array([1, 2])"
            ]
          },
          "metadata": {},
          "execution_count": 45
        }
      ]
    },
    {
      "cell_type": "code",
      "source": [],
      "metadata": {
        "id": "Gz7_974-Xw9C"
      },
      "id": "Gz7_974-Xw9C",
      "execution_count": null,
      "outputs": []
    }
  ],
  "metadata": {
    "language_info": {
      "name": "python"
    },
    "colab": {
      "provenance": [],
      "include_colab_link": true
    },
    "kernelspec": {
      "name": "python3",
      "display_name": "Python 3"
    }
  },
  "nbformat": 4,
  "nbformat_minor": 5
}