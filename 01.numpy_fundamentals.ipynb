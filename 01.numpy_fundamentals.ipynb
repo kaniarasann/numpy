{
  "cells": [
    {
      "cell_type": "code",
      "execution_count": 2,
      "id": "b4d5c779",
      "metadata": {
        "vscode": {
          "languageId": "plaintext"
        },
        "colab": {
          "base_uri": "https://localhost:8080/"
        },
        "id": "b4d5c779",
        "outputId": "af0e2ec6-3e2e-4b36-fa7d-7d32b5173029"
      },
      "outputs": [
        {
          "output_type": "stream",
          "name": "stdout",
          "text": [
            "Requirement already satisfied: numpy in /usr/local/lib/python3.11/dist-packages (2.0.2)\n"
          ]
        }
      ],
      "source": [
        "pip install numpy"
      ]
    },
    {
      "cell_type": "markdown",
      "source": [
        "Import Numpy"
      ],
      "metadata": {
        "id": "S2PTwE-305sd"
      },
      "id": "S2PTwE-305sd"
    },
    {
      "cell_type": "code",
      "source": [
        "import numpy as np"
      ],
      "metadata": {
        "id": "lG0R7HCk0-AU"
      },
      "id": "lG0R7HCk0-AU",
      "execution_count": 3,
      "outputs": []
    },
    {
      "cell_type": "markdown",
      "source": [
        "Indexing"
      ],
      "metadata": {
        "id": "38r3-rnf1FTQ"
      },
      "id": "38r3-rnf1FTQ"
    },
    {
      "cell_type": "code",
      "execution_count": 4,
      "id": "5661cc17",
      "metadata": {
        "vscode": {
          "languageId": "plaintext"
        },
        "id": "5661cc17"
      },
      "outputs": [],
      "source": [
        "array_a = np.array([[1,2,3,4,5],[6,7,8,9,10]])"
      ]
    },
    {
      "cell_type": "code",
      "execution_count": 5,
      "id": "5a7158c5",
      "metadata": {
        "vscode": {
          "languageId": "plaintext"
        },
        "colab": {
          "base_uri": "https://localhost:8080/"
        },
        "id": "5a7158c5",
        "outputId": "866c2043-cc28-43ec-ec70-6193f6091793"
      },
      "outputs": [
        {
          "output_type": "execute_result",
          "data": {
            "text/plain": [
              "array([ 6,  7,  8,  9, 10])"
            ]
          },
          "metadata": {},
          "execution_count": 5
        }
      ],
      "source": [
        "# Get the row in our case we row at index 0 and 1\n",
        "array_a[1]"
      ]
    },
    {
      "cell_type": "code",
      "execution_count": 6,
      "id": "90272e1f",
      "metadata": {
        "vscode": {
          "languageId": "plaintext"
        },
        "colab": {
          "base_uri": "https://localhost:8080/"
        },
        "id": "90272e1f",
        "outputId": "0f014f99-04cb-48fc-8983-cd2dff8a74f3"
      },
      "outputs": [
        {
          "output_type": "execute_result",
          "data": {
            "text/plain": [
              "np.int64(6)"
            ]
          },
          "metadata": {},
          "execution_count": 6
        }
      ],
      "source": [
        "# Get the row at index 1 column at index 0\n",
        "array_a[1,0]"
      ]
    },
    {
      "cell_type": "code",
      "source": [
        "# we can rewrite the same code in different way\n",
        "array_a[1][0]"
      ],
      "metadata": {
        "colab": {
          "base_uri": "https://localhost:8080/"
        },
        "id": "k844ifLo1p5Q",
        "outputId": "061a2d2d-bef1-40a1-a84b-1bb6bdd65d48"
      },
      "id": "k844ifLo1p5Q",
      "execution_count": 7,
      "outputs": [
        {
          "output_type": "execute_result",
          "data": {
            "text/plain": [
              "np.int64(6)"
            ]
          },
          "metadata": {},
          "execution_count": 7
        }
      ]
    },
    {
      "cell_type": "code",
      "source": [
        "#slicing\n",
        "# get all the values in the row at column index 0\n",
        "array_a[:,0]"
      ],
      "metadata": {
        "colab": {
          "base_uri": "https://localhost:8080/"
        },
        "id": "E1cuvowe13jx",
        "outputId": "b619761a-d1a5-419e-a3ab-7e4cb5824e7c"
      },
      "id": "E1cuvowe13jx",
      "execution_count": 8,
      "outputs": [
        {
          "output_type": "execute_result",
          "data": {
            "text/plain": [
              "array([1, 6])"
            ]
          },
          "metadata": {},
          "execution_count": 8
        }
      ]
    },
    {
      "cell_type": "markdown",
      "source": [
        "Negative index\n",
        "\n",
        "\n",
        "---\n",
        "\n",
        "\n",
        "\n",
        "1.   We can use negative index to get the value\n",
        "2.   we can't use negative zero as there is nothing called Negative zero in Math . sp negative index always starts with -1\n",
        "\n"
      ],
      "metadata": {
        "id": "qLnwejTG2mCB"
      },
      "id": "qLnwejTG2mCB"
    },
    {
      "cell_type": "code",
      "source": [
        "array_b = np.array([1,2,3,4,5])"
      ],
      "metadata": {
        "id": "8ZNxz8zE2eQN"
      },
      "id": "8ZNxz8zE2eQN",
      "execution_count": 9,
      "outputs": []
    },
    {
      "cell_type": "code",
      "source": [
        "#this will get the last value in a array\n",
        "array_b[-1]"
      ],
      "metadata": {
        "colab": {
          "base_uri": "https://localhost:8080/"
        },
        "id": "1CsSj_623JmI",
        "outputId": "96319c96-9836-4077-bedb-2dbb3851f163"
      },
      "id": "1CsSj_623JmI",
      "execution_count": 10,
      "outputs": [
        {
          "output_type": "execute_result",
          "data": {
            "text/plain": [
              "np.int64(5)"
            ]
          },
          "metadata": {},
          "execution_count": 10
        }
      ]
    },
    {
      "cell_type": "code",
      "source": [
        "array_b = np.array([[1,2,3,4,5],[6,7,8,9,10]])"
      ],
      "metadata": {
        "id": "m7_UCphv3Lz4"
      },
      "id": "m7_UCphv3Lz4",
      "execution_count": 11,
      "outputs": []
    },
    {
      "cell_type": "code",
      "source": [
        "#this will get the last row in a 2d array\n",
        "array_b[-1]"
      ],
      "metadata": {
        "colab": {
          "base_uri": "https://localhost:8080/"
        },
        "id": "nNIwibJF3Pj8",
        "outputId": "5977f4d7-af8c-4e5c-c8d3-375de3a006d1"
      },
      "id": "nNIwibJF3Pj8",
      "execution_count": 12,
      "outputs": [
        {
          "output_type": "execute_result",
          "data": {
            "text/plain": [
              "array([ 6,  7,  8,  9, 10])"
            ]
          },
          "metadata": {},
          "execution_count": 12
        }
      ]
    },
    {
      "cell_type": "code",
      "source": [
        "# we can also slice with negative index\n",
        "array_b[:,-1]\n"
      ],
      "metadata": {
        "colab": {
          "base_uri": "https://localhost:8080/"
        },
        "id": "s_FsKa7J3SH5",
        "outputId": "4f566198-815a-4bc9-d908-37b04a27df78"
      },
      "id": "s_FsKa7J3SH5",
      "execution_count": 13,
      "outputs": [
        {
          "output_type": "execute_result",
          "data": {
            "text/plain": [
              "array([ 5, 10])"
            ]
          },
          "metadata": {},
          "execution_count": 13
        }
      ]
    },
    {
      "cell_type": "markdown",
      "source": [
        "Assigning Values"
      ],
      "metadata": {
        "id": "DDV6NIUqFldO"
      },
      "id": "DDV6NIUqFldO"
    },
    {
      "cell_type": "code",
      "source": [
        "#we can assign value to a column and row\n",
        "array_a = np.array([[1,2,3,4,5],[6,7,8,9,10]])\n",
        "array_a[0,0] = 99\n",
        "array_a"
      ],
      "metadata": {
        "colab": {
          "base_uri": "https://localhost:8080/"
        },
        "id": "Cqqbftdl39Px",
        "outputId": "9a7270ee-35d9-4cf8-a3d9-2547f1b44464"
      },
      "id": "Cqqbftdl39Px",
      "execution_count": 14,
      "outputs": [
        {
          "output_type": "execute_result",
          "data": {
            "text/plain": [
              "array([[99,  2,  3,  4,  5],\n",
              "       [ 6,  7,  8,  9, 10]])"
            ]
          },
          "metadata": {},
          "execution_count": 14
        }
      ]
    },
    {
      "cell_type": "code",
      "source": [
        "# this will replace value in the first column in each row\n",
        "array_a[:,0] = 99\n",
        "array_a"
      ],
      "metadata": {
        "id": "tcXbfzbYF3Bw",
        "outputId": "1bfa30a5-5104-451f-cea8-8581d24ede44",
        "colab": {
          "base_uri": "https://localhost:8080/"
        }
      },
      "id": "tcXbfzbYF3Bw",
      "execution_count": 15,
      "outputs": [
        {
          "output_type": "execute_result",
          "data": {
            "text/plain": [
              "array([[99,  2,  3,  4,  5],\n",
              "       [99,  7,  8,  9, 10]])"
            ]
          },
          "metadata": {},
          "execution_count": 15
        }
      ]
    },
    {
      "cell_type": "code",
      "source": [
        "#entire Row\n",
        "array_a[0,:] = 99\n",
        "array_a"
      ],
      "metadata": {
        "id": "cyLTch_5GETp",
        "outputId": "a70d4296-3867-42fc-98bf-bc0ddd45b7a3",
        "colab": {
          "base_uri": "https://localhost:8080/"
        }
      },
      "id": "cyLTch_5GETp",
      "execution_count": 16,
      "outputs": [
        {
          "output_type": "execute_result",
          "data": {
            "text/plain": [
              "array([[99, 99, 99, 99, 99],\n",
              "       [99,  7,  8,  9, 10]])"
            ]
          },
          "metadata": {},
          "execution_count": 16
        }
      ]
    },
    {
      "cell_type": "code",
      "source": [
        "#entire Array\n",
        "array_a[:] = 99\n",
        "array_a"
      ],
      "metadata": {
        "id": "9GHqvUjTGLTg",
        "outputId": "4fbe0a1a-285c-4ca2-a4d3-e23b1da3ea8a",
        "colab": {
          "base_uri": "https://localhost:8080/"
        }
      },
      "id": "9GHqvUjTGLTg",
      "execution_count": 17,
      "outputs": [
        {
          "output_type": "execute_result",
          "data": {
            "text/plain": [
              "array([[99, 99, 99, 99, 99],\n",
              "       [99, 99, 99, 99, 99]])"
            ]
          },
          "metadata": {},
          "execution_count": 17
        }
      ]
    },
    {
      "cell_type": "code",
      "source": [
        "#assing array to a row\n",
        "array_a[0,:] = [1,2,3,4,5]\n",
        "array_a"
      ],
      "metadata": {
        "id": "939gfASQGdAQ",
        "outputId": "b48e964d-3455-4b1c-dfa7-59123c6366d1",
        "colab": {
          "base_uri": "https://localhost:8080/"
        }
      },
      "id": "939gfASQGdAQ",
      "execution_count": 18,
      "outputs": [
        {
          "output_type": "execute_result",
          "data": {
            "text/plain": [
              "array([[ 1,  2,  3,  4,  5],\n",
              "       [99, 99, 99, 99, 99]])"
            ]
          },
          "metadata": {},
          "execution_count": 18
        }
      ]
    },
    {
      "cell_type": "code",
      "source": [
        "#assign value to fisrt index\n",
        "array_a[:,0] = [1,2]\n",
        "array_a"
      ],
      "metadata": {
        "id": "cKyCU_69GnkM",
        "outputId": "fb1c921d-0b96-4384-9f3e-ca8ec73f8bad",
        "colab": {
          "base_uri": "https://localhost:8080/"
        }
      },
      "id": "cKyCU_69GnkM",
      "execution_count": 19,
      "outputs": [
        {
          "output_type": "execute_result",
          "data": {
            "text/plain": [
              "array([[ 1,  2,  3,  4,  5],\n",
              "       [ 2, 99, 99, 99, 99]])"
            ]
          },
          "metadata": {},
          "execution_count": 19
        }
      ]
    },
    {
      "cell_type": "markdown",
      "source": [
        "ElementWise - Elementwise can be used to add the arrays values togethor\n"
      ],
      "metadata": {
        "id": "YV4nyQyhh93C"
      },
      "id": "YV4nyQyhh93C"
    },
    {
      "cell_type": "code",
      "source": [
        "array_a = np.array([1,2,3,4,5])\n",
        "array_b = np.array([[6,7,8,9,10],[11,12,13,14,15]])"
      ],
      "metadata": {
        "id": "CoXND6MyGxpd"
      },
      "id": "CoXND6MyGxpd",
      "execution_count": 25,
      "outputs": []
    },
    {
      "cell_type": "code",
      "source": [
        "# we can subtract / Multiply and divide\n",
        "array_a = array_a + 2"
      ],
      "metadata": {
        "id": "m2DKGmwXiMCA"
      },
      "id": "m2DKGmwXiMCA",
      "execution_count": 26,
      "outputs": []
    },
    {
      "cell_type": "code",
      "source": [
        "array_a"
      ],
      "metadata": {
        "colab": {
          "base_uri": "https://localhost:8080/"
        },
        "id": "RhcaNmntibcB",
        "outputId": "78849a34-fbc4-4421-c2c1-80b19d419fe1"
      },
      "id": "RhcaNmntibcB",
      "execution_count": 27,
      "outputs": [
        {
          "output_type": "execute_result",
          "data": {
            "text/plain": [
              "array([3, 4, 5, 6, 7])"
            ]
          },
          "metadata": {},
          "execution_count": 27
        }
      ]
    },
    {
      "cell_type": "code",
      "source": [
        "#we can append two arrays until theier length of the row matched\n",
        "array_b+array_a"
      ],
      "metadata": {
        "colab": {
          "base_uri": "https://localhost:8080/"
        },
        "id": "w5IYc_yRi3M-",
        "outputId": "7969b909-a1b1-458f-c6e1-d642dddaf92c"
      },
      "id": "w5IYc_yRi3M-",
      "execution_count": 28,
      "outputs": [
        {
          "output_type": "execute_result",
          "data": {
            "text/plain": [
              "array([[ 9, 11, 13, 15, 17],\n",
              "       [14, 16, 18, 20, 22]])"
            ]
          },
          "metadata": {},
          "execution_count": 28
        }
      ]
    },
    {
      "cell_type": "code",
      "source": [
        "array_c = [1,2,3]"
      ],
      "metadata": {
        "id": "Ih92kHNAicGn"
      },
      "id": "Ih92kHNAicGn",
      "execution_count": 29,
      "outputs": []
    },
    {
      "cell_type": "code",
      "source": [
        "#if we try to append arrays with uncommon shape . you will get these following error\n",
        "array_b + array_c"
      ],
      "metadata": {
        "colab": {
          "base_uri": "https://localhost:8080/",
          "height": 146
        },
        "id": "xVCdk4KCjJau",
        "outputId": "31ccd6e8-af1a-46f2-8adc-beb09c280d72"
      },
      "id": "xVCdk4KCjJau",
      "execution_count": 30,
      "outputs": [
        {
          "output_type": "error",
          "ename": "ValueError",
          "evalue": "operands could not be broadcast together with shapes (2,5) (3,) ",
          "traceback": [
            "\u001b[0;31m---------------------------------------------------------------------------\u001b[0m",
            "\u001b[0;31mValueError\u001b[0m                                Traceback (most recent call last)",
            "\u001b[0;32m/tmp/ipython-input-30-85621031.py\u001b[0m in \u001b[0;36m<cell line: 0>\u001b[0;34m()\u001b[0m\n\u001b[0;32m----> 1\u001b[0;31m \u001b[0marray_b\u001b[0m \u001b[0;34m+\u001b[0m \u001b[0marray_c\u001b[0m\u001b[0;34m\u001b[0m\u001b[0;34m\u001b[0m\u001b[0m\n\u001b[0m",
            "\u001b[0;31mValueError\u001b[0m: operands could not be broadcast together with shapes (2,5) (3,) "
          ]
        }
      ]
    },
    {
      "cell_type": "markdown",
      "source": [
        "datatype - By default numoy will assign the datatype to array which works for all the values\n",
        "\n",
        "---\n",
        "\n",
        "URL : https://numpy.org/doc/stable/user/basics.types.html"
      ],
      "metadata": {
        "id": "a6iQEiyvmU_u"
      },
      "id": "a6iQEiyvmU_u"
    },
    {
      "cell_type": "code",
      "source": [
        "#this exmaple resturn U32 which is the dentoin for string\n",
        "array_a = np.array([1,2.0,\"3\"])\n",
        "array_a.dtype"
      ],
      "metadata": {
        "id": "z6eMxen0k_Bq",
        "outputId": "5ce79887-3822-4ee2-b162-433317028b69",
        "colab": {
          "base_uri": "https://localhost:8080/"
        }
      },
      "id": "z6eMxen0k_Bq",
      "execution_count": 33,
      "outputs": [
        {
          "output_type": "execute_result",
          "data": {
            "text/plain": [
              "dtype('<U32')"
            ]
          },
          "metadata": {},
          "execution_count": 33
        }
      ]
    },
    {
      "cell_type": "code",
      "source": [
        "# We can also set the dtype while initializing an array\n",
        "array_b = np.array([1,2,3,4],dtype = np.int16)\n",
        "array_b"
      ],
      "metadata": {
        "id": "MZppBfkhlGgk",
        "outputId": "a304e1f6-1946-4e42-bd64-b15f8699573b",
        "colab": {
          "base_uri": "https://localhost:8080/"
        }
      },
      "id": "MZppBfkhlGgk",
      "execution_count": 37,
      "outputs": [
        {
          "output_type": "execute_result",
          "data": {
            "text/plain": [
              "array([1, 2, 3, 4], dtype=int16)"
            ]
          },
          "metadata": {},
          "execution_count": 37
        }
      ]
    },
    {
      "cell_type": "code",
      "source": [
        "# We can also set the dtype to float even though the values are in INT format\n",
        "array_b = np.array([1,2,3,4],dtype = np.float64)\n",
        "array_b"
      ],
      "metadata": {
        "id": "vlFCd1_IllSK",
        "outputId": "13d88af1-9866-4d18-a765-d9daa0c45367",
        "colab": {
          "base_uri": "https://localhost:8080/"
        }
      },
      "id": "vlFCd1_IllSK",
      "execution_count": 38,
      "outputs": [
        {
          "output_type": "execute_result",
          "data": {
            "text/plain": [
              "array([1., 2., 3., 4.])"
            ]
          },
          "metadata": {},
          "execution_count": 38
        }
      ]
    }
  ],
  "metadata": {
    "language_info": {
      "name": "python"
    },
    "colab": {
      "provenance": []
    },
    "kernelspec": {
      "name": "python3",
      "display_name": "Python 3"
    }
  },
  "nbformat": 4,
  "nbformat_minor": 5
}