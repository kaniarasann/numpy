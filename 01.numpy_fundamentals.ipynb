{
  "cells": [
    {
      "cell_type": "code",
      "execution_count": 1,
      "id": "b4d5c779",
      "metadata": {
        "vscode": {
          "languageId": "plaintext"
        },
        "colab": {
          "base_uri": "https://localhost:8080/"
        },
        "id": "b4d5c779",
        "outputId": "07e2c4c3-0229-4335-b340-3ba8b8dd1519"
      },
      "outputs": [
        {
          "output_type": "stream",
          "name": "stdout",
          "text": [
            "Requirement already satisfied: numpy in /usr/local/lib/python3.11/dist-packages (2.0.2)\n"
          ]
        }
      ],
      "source": [
        "pip install numpy"
      ]
    },
    {
      "cell_type": "markdown",
      "source": [
        "Import Numpy"
      ],
      "metadata": {
        "id": "S2PTwE-305sd"
      },
      "id": "S2PTwE-305sd"
    },
    {
      "cell_type": "code",
      "source": [
        "import numpy as np"
      ],
      "metadata": {
        "id": "lG0R7HCk0-AU"
      },
      "id": "lG0R7HCk0-AU",
      "execution_count": 2,
      "outputs": []
    },
    {
      "cell_type": "markdown",
      "source": [
        "Indexing"
      ],
      "metadata": {
        "id": "38r3-rnf1FTQ"
      },
      "id": "38r3-rnf1FTQ"
    },
    {
      "cell_type": "code",
      "execution_count": 3,
      "id": "5661cc17",
      "metadata": {
        "vscode": {
          "languageId": "plaintext"
        },
        "id": "5661cc17"
      },
      "outputs": [],
      "source": [
        "array_a = np.array([[1,2,3,4,5],[6,7,8,9,10]])"
      ]
    },
    {
      "cell_type": "code",
      "execution_count": 4,
      "id": "5a7158c5",
      "metadata": {
        "vscode": {
          "languageId": "plaintext"
        },
        "colab": {
          "base_uri": "https://localhost:8080/"
        },
        "id": "5a7158c5",
        "outputId": "6660da03-29e2-4320-9f25-25b1c9fbbf41"
      },
      "outputs": [
        {
          "output_type": "execute_result",
          "data": {
            "text/plain": [
              "array([ 6,  7,  8,  9, 10])"
            ]
          },
          "metadata": {},
          "execution_count": 4
        }
      ],
      "source": [
        "# Get the row in our case we row at index 0 and 1\n",
        "array_a[1]"
      ]
    },
    {
      "cell_type": "code",
      "execution_count": 5,
      "id": "90272e1f",
      "metadata": {
        "vscode": {
          "languageId": "plaintext"
        },
        "colab": {
          "base_uri": "https://localhost:8080/"
        },
        "id": "90272e1f",
        "outputId": "f7f63ece-4a22-4a81-f260-53236dba7178"
      },
      "outputs": [
        {
          "output_type": "execute_result",
          "data": {
            "text/plain": [
              "np.int64(6)"
            ]
          },
          "metadata": {},
          "execution_count": 5
        }
      ],
      "source": [
        "# Get the row at index 1 column at index 0\n",
        "array_a[1,0]"
      ]
    },
    {
      "cell_type": "code",
      "source": [
        "# we can rewrite the same code in different way\n",
        "array_a[1][0]"
      ],
      "metadata": {
        "colab": {
          "base_uri": "https://localhost:8080/"
        },
        "id": "k844ifLo1p5Q",
        "outputId": "24880576-9ab7-4161-b672-4f1d26194427"
      },
      "id": "k844ifLo1p5Q",
      "execution_count": 6,
      "outputs": [
        {
          "output_type": "execute_result",
          "data": {
            "text/plain": [
              "np.int64(6)"
            ]
          },
          "metadata": {},
          "execution_count": 6
        }
      ]
    },
    {
      "cell_type": "code",
      "source": [
        "#slicing\n",
        "# get all the values in the row at column index 0\n",
        "array_a[:,0]"
      ],
      "metadata": {
        "colab": {
          "base_uri": "https://localhost:8080/"
        },
        "id": "E1cuvowe13jx",
        "outputId": "60fce761-1079-4c45-eb67-7b196ef01081"
      },
      "id": "E1cuvowe13jx",
      "execution_count": 7,
      "outputs": [
        {
          "output_type": "execute_result",
          "data": {
            "text/plain": [
              "array([1, 6])"
            ]
          },
          "metadata": {},
          "execution_count": 7
        }
      ]
    },
    {
      "cell_type": "markdown",
      "source": [
        "Negative index\n",
        "\n",
        "\n",
        "---\n",
        "\n",
        "\n",
        "\n",
        "1.   We can use negative index to get the value\n",
        "2.   we can't use negative zero as there is nothing called Negative zero in Math . sp negative index always starts with -1\n",
        "\n"
      ],
      "metadata": {
        "id": "qLnwejTG2mCB"
      },
      "id": "qLnwejTG2mCB"
    },
    {
      "cell_type": "code",
      "source": [
        "array_b = np.array([1,2,3,4,5])"
      ],
      "metadata": {
        "id": "8ZNxz8zE2eQN"
      },
      "id": "8ZNxz8zE2eQN",
      "execution_count": 8,
      "outputs": []
    },
    {
      "cell_type": "code",
      "source": [
        "#this will get the last value in a array\n",
        "array_b[-1]"
      ],
      "metadata": {
        "colab": {
          "base_uri": "https://localhost:8080/"
        },
        "id": "1CsSj_623JmI",
        "outputId": "6ba53f8d-889d-4179-fbbe-7b8849c6b7f8"
      },
      "id": "1CsSj_623JmI",
      "execution_count": 9,
      "outputs": [
        {
          "output_type": "execute_result",
          "data": {
            "text/plain": [
              "np.int64(5)"
            ]
          },
          "metadata": {},
          "execution_count": 9
        }
      ]
    },
    {
      "cell_type": "code",
      "source": [
        "array_b = np.array([[1,2,3,4,5],[6,7,8,9,10]])"
      ],
      "metadata": {
        "id": "m7_UCphv3Lz4"
      },
      "id": "m7_UCphv3Lz4",
      "execution_count": 10,
      "outputs": []
    },
    {
      "cell_type": "code",
      "source": [
        "#this will get the last row in a 2d array\n",
        "array_b[-1]"
      ],
      "metadata": {
        "colab": {
          "base_uri": "https://localhost:8080/"
        },
        "id": "nNIwibJF3Pj8",
        "outputId": "b4cea728-c0cb-4932-883f-a7937f0b8e7b"
      },
      "id": "nNIwibJF3Pj8",
      "execution_count": 11,
      "outputs": [
        {
          "output_type": "execute_result",
          "data": {
            "text/plain": [
              "array([ 6,  7,  8,  9, 10])"
            ]
          },
          "metadata": {},
          "execution_count": 11
        }
      ]
    },
    {
      "cell_type": "code",
      "source": [
        "# we can also slice with negative index\n",
        "array_b[:,-1]\n"
      ],
      "metadata": {
        "colab": {
          "base_uri": "https://localhost:8080/"
        },
        "id": "s_FsKa7J3SH5",
        "outputId": "fa8d5787-4f22-4531-f391-7b414b6b7fbb"
      },
      "id": "s_FsKa7J3SH5",
      "execution_count": 12,
      "outputs": [
        {
          "output_type": "execute_result",
          "data": {
            "text/plain": [
              "array([ 5, 10])"
            ]
          },
          "metadata": {},
          "execution_count": 12
        }
      ]
    },
    {
      "cell_type": "markdown",
      "source": [
        "Assigning Values"
      ],
      "metadata": {
        "id": "DDV6NIUqFldO"
      },
      "id": "DDV6NIUqFldO"
    },
    {
      "cell_type": "code",
      "source": [
        "#we can assign value to a column and row\n",
        "array_a = np.array([[1,2,3,4,5],[6,7,8,9,10]])\n",
        "array_a[0,0] = 99\n",
        "array_a"
      ],
      "metadata": {
        "colab": {
          "base_uri": "https://localhost:8080/"
        },
        "id": "Cqqbftdl39Px",
        "outputId": "5a678d9c-48f9-4dea-8eb1-7eae4257ad51"
      },
      "id": "Cqqbftdl39Px",
      "execution_count": 13,
      "outputs": [
        {
          "output_type": "execute_result",
          "data": {
            "text/plain": [
              "array([[99,  2,  3,  4,  5],\n",
              "       [ 6,  7,  8,  9, 10]])"
            ]
          },
          "metadata": {},
          "execution_count": 13
        }
      ]
    },
    {
      "cell_type": "code",
      "source": [
        "# this will replace value in the first column in each row\n",
        "array_a[:,0] = 99\n",
        "array_a"
      ],
      "metadata": {
        "id": "tcXbfzbYF3Bw",
        "outputId": "8466066c-9fe6-4409-9f63-ae9e90290121",
        "colab": {
          "base_uri": "https://localhost:8080/"
        }
      },
      "id": "tcXbfzbYF3Bw",
      "execution_count": 14,
      "outputs": [
        {
          "output_type": "execute_result",
          "data": {
            "text/plain": [
              "array([[99,  2,  3,  4,  5],\n",
              "       [99,  7,  8,  9, 10]])"
            ]
          },
          "metadata": {},
          "execution_count": 14
        }
      ]
    },
    {
      "cell_type": "code",
      "source": [
        "#entire Row\n",
        "array_a[0,:] = 99\n",
        "array_a"
      ],
      "metadata": {
        "id": "cyLTch_5GETp",
        "outputId": "e465468c-d28b-4854-af70-92f6a618b21c",
        "colab": {
          "base_uri": "https://localhost:8080/"
        }
      },
      "id": "cyLTch_5GETp",
      "execution_count": 15,
      "outputs": [
        {
          "output_type": "execute_result",
          "data": {
            "text/plain": [
              "array([[99, 99, 99, 99, 99],\n",
              "       [99,  7,  8,  9, 10]])"
            ]
          },
          "metadata": {},
          "execution_count": 15
        }
      ]
    },
    {
      "cell_type": "code",
      "source": [
        "#entire Array\n",
        "array_a[:] = 99\n",
        "array_a"
      ],
      "metadata": {
        "id": "9GHqvUjTGLTg",
        "outputId": "77ded668-09ed-4bb6-e554-d92152a8cb55",
        "colab": {
          "base_uri": "https://localhost:8080/"
        }
      },
      "id": "9GHqvUjTGLTg",
      "execution_count": 16,
      "outputs": [
        {
          "output_type": "execute_result",
          "data": {
            "text/plain": [
              "array([[99, 99, 99, 99, 99],\n",
              "       [99, 99, 99, 99, 99]])"
            ]
          },
          "metadata": {},
          "execution_count": 16
        }
      ]
    },
    {
      "cell_type": "code",
      "source": [
        "#assing array to a row\n",
        "array_a[0,:] = [1,2,3,4,5]\n",
        "array_a"
      ],
      "metadata": {
        "id": "939gfASQGdAQ",
        "outputId": "eb369bb2-0c26-41fc-a9d0-29a4b3048ae7",
        "colab": {
          "base_uri": "https://localhost:8080/"
        }
      },
      "id": "939gfASQGdAQ",
      "execution_count": 17,
      "outputs": [
        {
          "output_type": "execute_result",
          "data": {
            "text/plain": [
              "array([[ 1,  2,  3,  4,  5],\n",
              "       [99, 99, 99, 99, 99]])"
            ]
          },
          "metadata": {},
          "execution_count": 17
        }
      ]
    },
    {
      "cell_type": "code",
      "source": [
        "#assign value to fisrt index\n",
        "array_a[:,0] = [1,2]\n",
        "array_a"
      ],
      "metadata": {
        "id": "cKyCU_69GnkM",
        "outputId": "57e1f080-7f16-415c-9a47-81d8051528b5",
        "colab": {
          "base_uri": "https://localhost:8080/"
        }
      },
      "id": "cKyCU_69GnkM",
      "execution_count": 18,
      "outputs": [
        {
          "output_type": "execute_result",
          "data": {
            "text/plain": [
              "array([[ 1,  2,  3,  4,  5],\n",
              "       [ 2, 99, 99, 99, 99]])"
            ]
          },
          "metadata": {},
          "execution_count": 18
        }
      ]
    },
    {
      "cell_type": "markdown",
      "source": [
        "ElementWise - Elementwise can be used to add the arrays values togethor\n"
      ],
      "metadata": {
        "id": "YV4nyQyhh93C"
      },
      "id": "YV4nyQyhh93C"
    },
    {
      "cell_type": "code",
      "source": [
        "array_a = np.array([1,2,3,4,5])\n",
        "array_b = np.array([[6,7,8,9,10],[11,12,13,14,15]])"
      ],
      "metadata": {
        "id": "CoXND6MyGxpd"
      },
      "id": "CoXND6MyGxpd",
      "execution_count": 19,
      "outputs": []
    },
    {
      "cell_type": "code",
      "source": [
        "# we can subtract / Multiply and divide\n",
        "array_a = array_a + 2"
      ],
      "metadata": {
        "id": "m2DKGmwXiMCA"
      },
      "id": "m2DKGmwXiMCA",
      "execution_count": 20,
      "outputs": []
    },
    {
      "cell_type": "code",
      "source": [
        "array_a"
      ],
      "metadata": {
        "colab": {
          "base_uri": "https://localhost:8080/"
        },
        "id": "RhcaNmntibcB",
        "outputId": "9122818e-7c4e-45e1-ad02-d55702277123"
      },
      "id": "RhcaNmntibcB",
      "execution_count": 21,
      "outputs": [
        {
          "output_type": "execute_result",
          "data": {
            "text/plain": [
              "array([3, 4, 5, 6, 7])"
            ]
          },
          "metadata": {},
          "execution_count": 21
        }
      ]
    },
    {
      "cell_type": "code",
      "source": [
        "#we can append two arrays until theier length of the row matched\n",
        "array_b+array_a"
      ],
      "metadata": {
        "colab": {
          "base_uri": "https://localhost:8080/"
        },
        "id": "w5IYc_yRi3M-",
        "outputId": "4b0ce23f-2cda-42d6-99e7-8751241ff7c3"
      },
      "id": "w5IYc_yRi3M-",
      "execution_count": 22,
      "outputs": [
        {
          "output_type": "execute_result",
          "data": {
            "text/plain": [
              "array([[ 9, 11, 13, 15, 17],\n",
              "       [14, 16, 18, 20, 22]])"
            ]
          },
          "metadata": {},
          "execution_count": 22
        }
      ]
    },
    {
      "cell_type": "code",
      "source": [
        "array_c = [1,2,3]"
      ],
      "metadata": {
        "id": "Ih92kHNAicGn"
      },
      "id": "Ih92kHNAicGn",
      "execution_count": 23,
      "outputs": []
    },
    {
      "cell_type": "code",
      "source": [
        "#if we try to append arrays with uncommon shape . you will get these following error\n",
        "#array_b + array_c"
      ],
      "metadata": {
        "colab": {
          "base_uri": "https://localhost:8080/",
          "height": 164
        },
        "id": "xVCdk4KCjJau",
        "outputId": "199699b5-f449-473b-913f-4e4001f1e42a"
      },
      "id": "xVCdk4KCjJau",
      "execution_count": 24,
      "outputs": [
        {
          "output_type": "error",
          "ename": "ValueError",
          "evalue": "operands could not be broadcast together with shapes (2,5) (3,) ",
          "traceback": [
            "\u001b[0;31m---------------------------------------------------------------------------\u001b[0m",
            "\u001b[0;31mValueError\u001b[0m                                Traceback (most recent call last)",
            "\u001b[0;32m/tmp/ipython-input-24-1096849829.py\u001b[0m in \u001b[0;36m<cell line: 0>\u001b[0;34m()\u001b[0m\n\u001b[1;32m      1\u001b[0m \u001b[0;31m#if we try to append arrays with uncommon shape . you will get these following error\u001b[0m\u001b[0;34m\u001b[0m\u001b[0;34m\u001b[0m\u001b[0m\n\u001b[0;32m----> 2\u001b[0;31m \u001b[0marray_b\u001b[0m \u001b[0;34m+\u001b[0m \u001b[0marray_c\u001b[0m\u001b[0;34m\u001b[0m\u001b[0;34m\u001b[0m\u001b[0m\n\u001b[0m",
            "\u001b[0;31mValueError\u001b[0m: operands could not be broadcast together with shapes (2,5) (3,) "
          ]
        }
      ]
    },
    {
      "cell_type": "markdown",
      "source": [
        "datatype - By default numoy will assign the datatype to array which works for all the values\n",
        "\n",
        "---\n",
        "\n",
        "URL : https://numpy.org/doc/stable/user/basics.types.html"
      ],
      "metadata": {
        "id": "a6iQEiyvmU_u"
      },
      "id": "a6iQEiyvmU_u"
    },
    {
      "cell_type": "code",
      "source": [
        "#this exmaple resturn U32 which is the dentoin for string\n",
        "array_a = np.array([1,2.0,\"3\"])\n",
        "array_a.dtype"
      ],
      "metadata": {
        "id": "z6eMxen0k_Bq"
      },
      "id": "z6eMxen0k_Bq",
      "execution_count": null,
      "outputs": []
    },
    {
      "cell_type": "code",
      "source": [
        "# We can also set the dtype while initializing an array\n",
        "array_b = np.array([1,2,3,4],dtype = np.int16)\n",
        "array_b"
      ],
      "metadata": {
        "id": "MZppBfkhlGgk"
      },
      "id": "MZppBfkhlGgk",
      "execution_count": null,
      "outputs": []
    },
    {
      "cell_type": "code",
      "source": [
        "# We can also set the dtype to float even though the values are in INT format\n",
        "array_b = np.array([1,2,3,4],dtype = np.float64)\n",
        "array_b"
      ],
      "metadata": {
        "id": "vlFCd1_IllSK"
      },
      "id": "vlFCd1_IllSK",
      "execution_count": null,
      "outputs": []
    }
  ],
  "metadata": {
    "language_info": {
      "name": "python"
    },
    "colab": {
      "provenance": []
    },
    "kernelspec": {
      "name": "python3",
      "display_name": "Python 3"
    }
  },
  "nbformat": 4,
  "nbformat_minor": 5
}