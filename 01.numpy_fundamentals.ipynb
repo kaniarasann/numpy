{
  "cells": [
    {
      "cell_type": "code",
      "execution_count": 1,
      "id": "b4d5c779",
      "metadata": {
        "vscode": {
          "languageId": "plaintext"
        },
        "colab": {
          "base_uri": "https://localhost:8080/"
        },
        "id": "b4d5c779",
        "outputId": "76bdcc63-46cd-4d89-fcd2-54da1db1e160"
      },
      "outputs": [
        {
          "output_type": "stream",
          "name": "stdout",
          "text": [
            "Requirement already satisfied: numpy in /usr/local/lib/python3.11/dist-packages (2.0.2)\n"
          ]
        }
      ],
      "source": [
        "pip install numpy"
      ]
    },
    {
      "cell_type": "markdown",
      "source": [
        "Import Numpy"
      ],
      "metadata": {
        "id": "S2PTwE-305sd"
      },
      "id": "S2PTwE-305sd"
    },
    {
      "cell_type": "code",
      "source": [
        "import numpy as np"
      ],
      "metadata": {
        "id": "lG0R7HCk0-AU"
      },
      "id": "lG0R7HCk0-AU",
      "execution_count": 2,
      "outputs": []
    },
    {
      "cell_type": "markdown",
      "source": [
        "Indexing"
      ],
      "metadata": {
        "id": "38r3-rnf1FTQ"
      },
      "id": "38r3-rnf1FTQ"
    },
    {
      "cell_type": "code",
      "execution_count": 6,
      "id": "5661cc17",
      "metadata": {
        "vscode": {
          "languageId": "plaintext"
        },
        "id": "5661cc17"
      },
      "outputs": [],
      "source": [
        "array_a = np.array([[1,2,3,4,5],[6,7,8,9,10]])"
      ]
    },
    {
      "cell_type": "code",
      "execution_count": 7,
      "id": "5a7158c5",
      "metadata": {
        "vscode": {
          "languageId": "plaintext"
        },
        "colab": {
          "base_uri": "https://localhost:8080/"
        },
        "id": "5a7158c5",
        "outputId": "1d7e04a0-769a-465c-d4a0-bb3620e35295"
      },
      "outputs": [
        {
          "output_type": "execute_result",
          "data": {
            "text/plain": [
              "array([ 6,  7,  8,  9, 10])"
            ]
          },
          "metadata": {},
          "execution_count": 7
        }
      ],
      "source": [
        "# Get the row in our case we row at index 0 and 1\n",
        "array_a[1]"
      ]
    },
    {
      "cell_type": "code",
      "execution_count": 8,
      "id": "90272e1f",
      "metadata": {
        "vscode": {
          "languageId": "plaintext"
        },
        "colab": {
          "base_uri": "https://localhost:8080/"
        },
        "id": "90272e1f",
        "outputId": "f65145c3-8987-4a0b-d1f5-ff3dc180a0f3"
      },
      "outputs": [
        {
          "output_type": "execute_result",
          "data": {
            "text/plain": [
              "np.int64(6)"
            ]
          },
          "metadata": {},
          "execution_count": 8
        }
      ],
      "source": [
        "# Get the row at index 1 column at index 0\n",
        "array_a[1,0]"
      ]
    },
    {
      "cell_type": "code",
      "source": [
        "# we can rewrite the same code in different way\n",
        "array_a[1][0]"
      ],
      "metadata": {
        "colab": {
          "base_uri": "https://localhost:8080/"
        },
        "id": "k844ifLo1p5Q",
        "outputId": "c0cfb0de-9326-4dd1-f36e-b73fed983588"
      },
      "id": "k844ifLo1p5Q",
      "execution_count": 9,
      "outputs": [
        {
          "output_type": "execute_result",
          "data": {
            "text/plain": [
              "np.int64(6)"
            ]
          },
          "metadata": {},
          "execution_count": 9
        }
      ]
    },
    {
      "cell_type": "code",
      "source": [
        "#slicing\n",
        "# get all the values in the row at column index 0\n",
        "array_a[:,0]"
      ],
      "metadata": {
        "colab": {
          "base_uri": "https://localhost:8080/"
        },
        "id": "E1cuvowe13jx",
        "outputId": "c3c83a34-a354-4393-ccc9-5672a36cf55c"
      },
      "id": "E1cuvowe13jx",
      "execution_count": 10,
      "outputs": [
        {
          "output_type": "execute_result",
          "data": {
            "text/plain": [
              "array([1, 6])"
            ]
          },
          "metadata": {},
          "execution_count": 10
        }
      ]
    },
    {
      "cell_type": "markdown",
      "source": [
        "Negative index\n",
        "\n",
        "\n",
        "---\n",
        "\n",
        "\n",
        "\n",
        "1.   We can use negative index to get the value\n",
        "2.   we can't use negative zero as there is nothing called Negative zero in Math . sp negative index always starts with -1\n",
        "\n"
      ],
      "metadata": {
        "id": "qLnwejTG2mCB"
      },
      "id": "qLnwejTG2mCB"
    },
    {
      "cell_type": "code",
      "source": [
        "array_b = np.array([1,2,3,4,5])"
      ],
      "metadata": {
        "id": "8ZNxz8zE2eQN"
      },
      "id": "8ZNxz8zE2eQN",
      "execution_count": 11,
      "outputs": []
    },
    {
      "cell_type": "code",
      "source": [
        "#this will get the last value in a array\n",
        "array_b[-1]"
      ],
      "metadata": {
        "colab": {
          "base_uri": "https://localhost:8080/"
        },
        "id": "1CsSj_623JmI",
        "outputId": "1b12c931-dbe5-425c-d33e-bb6953d639a1"
      },
      "id": "1CsSj_623JmI",
      "execution_count": 12,
      "outputs": [
        {
          "output_type": "execute_result",
          "data": {
            "text/plain": [
              "np.int64(5)"
            ]
          },
          "metadata": {},
          "execution_count": 12
        }
      ]
    },
    {
      "cell_type": "code",
      "source": [
        "array_b = np.array([[1,2,3,4,5],[6,7,8,9,10]])"
      ],
      "metadata": {
        "id": "m7_UCphv3Lz4"
      },
      "id": "m7_UCphv3Lz4",
      "execution_count": 13,
      "outputs": []
    },
    {
      "cell_type": "code",
      "source": [
        "#this will get the last row in a 2d array\n",
        "array_b[-1]"
      ],
      "metadata": {
        "colab": {
          "base_uri": "https://localhost:8080/"
        },
        "id": "nNIwibJF3Pj8",
        "outputId": "14295192-9ae9-471c-e9a8-0085cfbf19f6"
      },
      "id": "nNIwibJF3Pj8",
      "execution_count": 15,
      "outputs": [
        {
          "output_type": "execute_result",
          "data": {
            "text/plain": [
              "array([ 6,  7,  8,  9, 10])"
            ]
          },
          "metadata": {},
          "execution_count": 15
        }
      ]
    },
    {
      "cell_type": "code",
      "source": [
        "# we can also slice with negative index\n",
        "array_b[:,-1]\n"
      ],
      "metadata": {
        "colab": {
          "base_uri": "https://localhost:8080/"
        },
        "id": "s_FsKa7J3SH5",
        "outputId": "16ec3f40-2c04-48ec-f254-0d2695e2b8e6"
      },
      "id": "s_FsKa7J3SH5",
      "execution_count": 16,
      "outputs": [
        {
          "output_type": "execute_result",
          "data": {
            "text/plain": [
              "array([ 5, 10])"
            ]
          },
          "metadata": {},
          "execution_count": 16
        }
      ]
    },
    {
      "cell_type": "markdown",
      "source": [
        "Assigning Values"
      ],
      "metadata": {
        "id": "DDV6NIUqFldO"
      },
      "id": "DDV6NIUqFldO"
    },
    {
      "cell_type": "code",
      "source": [
        "#we can assign value to a column and row\n",
        "array_a = np.array([[1,2,3,4,5],[6,7,8,9,10]])\n",
        "array_a[0,0] = 99\n",
        "array_a"
      ],
      "metadata": {
        "colab": {
          "base_uri": "https://localhost:8080/"
        },
        "id": "Cqqbftdl39Px",
        "outputId": "d91be999-6de4-4b8b-c3d9-a0bfa8053113"
      },
      "id": "Cqqbftdl39Px",
      "execution_count": 20,
      "outputs": [
        {
          "output_type": "execute_result",
          "data": {
            "text/plain": [
              "array([[99,  2,  3,  4,  5],\n",
              "       [ 6,  7,  8,  9, 10]])"
            ]
          },
          "metadata": {},
          "execution_count": 20
        }
      ]
    },
    {
      "cell_type": "code",
      "source": [
        "# this will replace value in the first column in each row\n",
        "array_a[:,0] = 99\n",
        "array_a"
      ],
      "metadata": {
        "id": "tcXbfzbYF3Bw",
        "outputId": "33b2ceb0-5b53-4953-aa04-2183f0f2a285",
        "colab": {
          "base_uri": "https://localhost:8080/"
        }
      },
      "id": "tcXbfzbYF3Bw",
      "execution_count": 21,
      "outputs": [
        {
          "output_type": "execute_result",
          "data": {
            "text/plain": [
              "array([[99,  2,  3,  4,  5],\n",
              "       [99,  7,  8,  9, 10]])"
            ]
          },
          "metadata": {},
          "execution_count": 21
        }
      ]
    },
    {
      "cell_type": "code",
      "source": [
        "#entire Row\n",
        "array_a[0,:] = 99\n",
        "array_a"
      ],
      "metadata": {
        "id": "cyLTch_5GETp",
        "outputId": "40c29794-23af-4a39-ca40-368e34f62523",
        "colab": {
          "base_uri": "https://localhost:8080/"
        }
      },
      "id": "cyLTch_5GETp",
      "execution_count": 23,
      "outputs": [
        {
          "output_type": "execute_result",
          "data": {
            "text/plain": [
              "array([[99, 99, 99, 99, 99],\n",
              "       [99,  7,  8,  9, 10]])"
            ]
          },
          "metadata": {},
          "execution_count": 23
        }
      ]
    },
    {
      "cell_type": "code",
      "source": [
        "#entire Array\n",
        "array_a[:] = 99\n",
        "array_a"
      ],
      "metadata": {
        "id": "9GHqvUjTGLTg",
        "outputId": "116cdfe2-8ead-4513-9e07-fafa011e7667",
        "colab": {
          "base_uri": "https://localhost:8080/"
        }
      },
      "id": "9GHqvUjTGLTg",
      "execution_count": 25,
      "outputs": [
        {
          "output_type": "execute_result",
          "data": {
            "text/plain": [
              "array([[99, 99, 99, 99, 99],\n",
              "       [99, 99, 99, 99, 99]])"
            ]
          },
          "metadata": {},
          "execution_count": 25
        }
      ]
    },
    {
      "cell_type": "code",
      "source": [
        "#assing array to a row\n",
        "array_a[0,:] = [1,2,3,4,5]\n",
        "array_a"
      ],
      "metadata": {
        "id": "939gfASQGdAQ",
        "outputId": "19b233b0-2eb8-44ca-e40c-2e1a5bf190f4",
        "colab": {
          "base_uri": "https://localhost:8080/"
        }
      },
      "id": "939gfASQGdAQ",
      "execution_count": 27,
      "outputs": [
        {
          "output_type": "execute_result",
          "data": {
            "text/plain": [
              "array([[ 1,  2,  3,  4,  5],\n",
              "       [99, 99, 99, 99, 99]])"
            ]
          },
          "metadata": {},
          "execution_count": 27
        }
      ]
    },
    {
      "cell_type": "code",
      "source": [
        "#assign value to fisrt index\n",
        "array_a[:,0] = [1,2]\n",
        "array_a"
      ],
      "metadata": {
        "id": "cKyCU_69GnkM",
        "outputId": "6dee114b-86eb-4079-efad-9c315f6a0e9c",
        "colab": {
          "base_uri": "https://localhost:8080/"
        }
      },
      "id": "cKyCU_69GnkM",
      "execution_count": 28,
      "outputs": [
        {
          "output_type": "execute_result",
          "data": {
            "text/plain": [
              "array([[ 1,  2,  3,  4,  5],\n",
              "       [ 2, 99, 99, 99, 99]])"
            ]
          },
          "metadata": {},
          "execution_count": 28
        }
      ]
    },
    {
      "cell_type": "code",
      "source": [],
      "metadata": {
        "id": "CoXND6MyGxpd"
      },
      "id": "CoXND6MyGxpd",
      "execution_count": null,
      "outputs": []
    }
  ],
  "metadata": {
    "language_info": {
      "name": "python"
    },
    "colab": {
      "provenance": []
    },
    "kernelspec": {
      "name": "python3",
      "display_name": "Python 3"
    }
  },
  "nbformat": 4,
  "nbformat_minor": 5
}